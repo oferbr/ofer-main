{
 "cells": [
  {
   "cell_type": "markdown",
   "metadata": {},
   "source": [
    "# Hello World!"
   ]
  },
  {
   "cell_type": "code",
   "execution_count": 1,
   "metadata": {},
   "outputs": [
    {
     "name": "stderr",
     "output_type": "stream",
     "text": [
      "\u001b[0;31mInline plot failed, consider trying another graphics toolkit\n",
      "warning: print.m: fig2dev binary is not available.\n",
      "Some output formats are not available.\n",
      "error: print: no axes object in figure to print\n",
      "error: called from\n",
      "    _make_figures>safe_print at line 122 column 7\n",
      "    _make_figures at line 44 column 13\n",
      "\n",
      "\u001b[0m"
     ]
    }
   ],
   "source": [
    "% create figure and panel on it\n",
    "f = figure;\n",
    "% create a button (default style)\n",
    "b1 = uicontrol (f, \"string\", \"A Button\", \"position\",[10 10 150 40]);\n",
    "% create an edit control\n",
    "e1 = uicontrol (f, \"style\", \"edit\", \"string\", \"editable text\", \"position\",[10 60 300 40]);\n",
    "% create a checkbox\n",
    "c1 = uicontrol (f, \"style\", \"checkbox\", \"string\", \"a checkbox\", \"position\",[10 120 150 40]);"
   ]
  },
  {
   "cell_type": "code",
   "execution_count": null,
   "metadata": {},
   "outputs": [],
   "source": []
  }
 ],
 "metadata": {
  "kernelspec": {
   "display_name": "Octave",
   "language": "octave",
   "name": "octave"
  },
  "language_info": {
   "file_extension": ".m",
   "help_links": [
    {
     "text": "GNU Octave",
     "url": "https://www.gnu.org/software/octave/support.html"
    },
    {
     "text": "Octave Kernel",
     "url": "https://github.com/Calysto/octave_kernel"
    },
    {
     "text": "MetaKernel Magics",
     "url": "https://github.com/calysto/metakernel/blob/master/metakernel/magics/README.md"
    }
   ],
   "mimetype": "text/x-octave",
   "name": "octave",
   "version": "4.2.2"
  }
 },
 "nbformat": 4,
 "nbformat_minor": 2
}
